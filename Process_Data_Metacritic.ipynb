{
 "cells": [
  {
   "cell_type": "code",
   "execution_count": 2,
   "metadata": {
    "collapsed": false
   },
   "outputs": [
    {
     "name": "stderr",
     "output_type": "stream",
     "text": [
      "/Users/warren/anaconda/lib/python3.6/site-packages/sklearn/cross_validation.py:44: DeprecationWarning: This module was deprecated in version 0.18 in favor of the model_selection module into which all the refactored classes and functions are moved. Also note that the interface of the new CV iterators are different from that of this module. This module will be removed in 0.20.\n",
      "  \"This module will be removed in 0.20.\", DeprecationWarning)\n"
     ]
    }
   ],
   "source": [
    "# Import necessary libraries, modules, etc.\n",
    "import pandas as pd\n",
    "import numpy as np\n",
    "import json\n",
    "\n",
    "import matplotlib.pyplot as plt\n",
    "import seaborn as sns\n",
    "from seaborn import plt\n",
    "\n",
    "import statsmodels.api as sm\n",
    "import statsmodels.formula.api as smf\n",
    "import patsy\n",
    "\n",
    "from sklearn.preprocessing import PolynomialFeatures\n",
    "from sklearn.pipeline import make_pipeline\n",
    "\n",
    "from sklearn.model_selection import train_test_split\n",
    "from sklearn.model_selection import KFold\n",
    "\n",
    "from sklearn.linear_model import LinearRegression\n",
    "from sklearn.linear_model import RidgeCV\n",
    "from sklearn.linear_model import Lasso\n",
    "from sklearn.linear_model import LassoCV\n",
    "\n",
    "from sklearn.cross_validation import cross_val_score # looks like this was deprecated\n",
    "\n",
    "from sklearn.metrics import mean_squared_error\n",
    "\n",
    "%matplotlib inline"
   ]
  },
  {
   "cell_type": "code",
   "execution_count": 92,
   "metadata": {
    "collapsed": true
   },
   "outputs": [],
   "source": [
    "# I would like to use ggplot if possible\n",
    "\n",
    "from ggplot import *"
   ]
  },
  {
   "cell_type": "markdown",
   "metadata": {},
   "source": [
    "## Import Data"
   ]
  },
  {
   "cell_type": "code",
   "execution_count": 93,
   "metadata": {
    "collapsed": false
   },
   "outputs": [
    {
     "name": "stdout",
     "output_type": "stream",
     "text": [
      "/Users/warren/Data_Science/metis/not_github/projects/02_Luther\r\n"
     ]
    }
   ],
   "source": [
    "!pwd"
   ]
  },
  {
   "cell_type": "code",
   "execution_count": 94,
   "metadata": {
    "collapsed": false
   },
   "outputs": [
    {
     "name": "stdout",
     "output_type": "stream",
     "text": [
      "\u001b[34mluther_wtc\u001b[m\u001b[m                test_metacritic04_01.json test_metacritic05_02.json\r\n",
      "scrapy.cfg                test_metacritic04_02.json test_metacritic05_03.json\r\n",
      "test_metacritic01_01.json test_metacritic05_01.json test_metacritic05_04.json\r\n"
     ]
    }
   ],
   "source": [
    "!ls luther_wtc/"
   ]
  },
  {
   "cell_type": "code",
   "execution_count": 95,
   "metadata": {
    "collapsed": true
   },
   "outputs": [],
   "source": [
    "with open('luther_wtc/test_metacritic05_02.json') as json_data:\n",
    "    d = json.load(json_data)\n",
    "    "
   ]
  },
  {
   "cell_type": "code",
   "execution_count": 96,
   "metadata": {
    "collapsed": true
   },
   "outputs": [],
   "source": [
    "colnames = ['movie', 'rel_date', 'rating', 'genres', 'runtime',\n",
    "            'c_score', 'c_pos', 'c_mix', 'c_neg',\n",
    "            'u_score', 'u_pos', 'u_mix', 'u_neg']\n",
    "\n",
    "df1 = pd.DataFrame(d, columns = colnames)\n"
   ]
  },
  {
   "cell_type": "markdown",
   "metadata": {},
   "source": [
    "## Clean Data"
   ]
  },
  {
   "cell_type": "code",
   "execution_count": 97,
   "metadata": {
    "collapsed": false
   },
   "outputs": [
    {
     "name": "stdout",
     "output_type": "stream",
     "text": [
      "<class 'pandas.core.frame.DataFrame'>\n",
      "RangeIndex: 7577 entries, 0 to 7576\n",
      "Data columns (total 13 columns):\n",
      "movie       7577 non-null object\n",
      "rel_date    7577 non-null object\n",
      "rating      7577 non-null object\n",
      "genres      7577 non-null object\n",
      "runtime     7446 non-null object\n",
      "c_score     7575 non-null object\n",
      "c_pos       6982 non-null object\n",
      "c_mix       7235 non-null object\n",
      "c_neg       5121 non-null object\n",
      "u_score     6281 non-null object\n",
      "u_pos       6234 non-null object\n",
      "u_mix       5747 non-null object\n",
      "u_neg       5736 non-null object\n",
      "dtypes: object(13)\n",
      "memory usage: 769.6+ KB\n"
     ]
    }
   ],
   "source": [
    "df1.info()"
   ]
  },
  {
   "cell_type": "code",
   "execution_count": 98,
   "metadata": {
    "collapsed": false
   },
   "outputs": [
    {
     "data": {
      "text/html": [
       "<div>\n",
       "<table border=\"1\" class=\"dataframe\">\n",
       "  <thead>\n",
       "    <tr style=\"text-align: right;\">\n",
       "      <th></th>\n",
       "      <th>movie</th>\n",
       "      <th>rel_date</th>\n",
       "      <th>rating</th>\n",
       "      <th>genres</th>\n",
       "      <th>runtime</th>\n",
       "      <th>c_score</th>\n",
       "      <th>c_pos</th>\n",
       "      <th>c_mix</th>\n",
       "      <th>c_neg</th>\n",
       "      <th>u_score</th>\n",
       "      <th>u_pos</th>\n",
       "      <th>u_mix</th>\n",
       "      <th>u_neg</th>\n",
       "    </tr>\n",
       "  </thead>\n",
       "  <tbody>\n",
       "    <tr>\n",
       "      <th>0</th>\n",
       "      <td>Quiz Show</td>\n",
       "      <td>September 14, 1994</td>\n",
       "      <td>PG-13</td>\n",
       "      <td>Drama, History</td>\n",
       "      <td>133 min</td>\n",
       "      <td>88</td>\n",
       "      <td>13</td>\n",
       "      <td>None</td>\n",
       "      <td>None</td>\n",
       "      <td>8.7</td>\n",
       "      <td>84</td>\n",
       "      <td>2</td>\n",
       "      <td>4</td>\n",
       "    </tr>\n",
       "    <tr>\n",
       "      <th>1</th>\n",
       "      <td>Juwanna Mann</td>\n",
       "      <td>June 21, 2002</td>\n",
       "      <td>PG-13</td>\n",
       "      <td>Drama, Sport, Comedy, Romance</td>\n",
       "      <td>91 min</td>\n",
       "      <td>24</td>\n",
       "      <td>2</td>\n",
       "      <td>5</td>\n",
       "      <td>18</td>\n",
       "      <td>5.8</td>\n",
       "      <td>11</td>\n",
       "      <td>3</td>\n",
       "      <td>6</td>\n",
       "    </tr>\n",
       "    <tr>\n",
       "      <th>2</th>\n",
       "      <td>Oz the Great and Powerful</td>\n",
       "      <td>March 8, 2013</td>\n",
       "      <td>PG</td>\n",
       "      <td>Action, Adventure, Fantasy, Family</td>\n",
       "      <td>130 min</td>\n",
       "      <td>44</td>\n",
       "      <td>11</td>\n",
       "      <td>21</td>\n",
       "      <td>10</td>\n",
       "      <td>6.1</td>\n",
       "      <td>225</td>\n",
       "      <td>178</td>\n",
       "      <td>77</td>\n",
       "    </tr>\n",
       "    <tr>\n",
       "      <th>3</th>\n",
       "      <td>All the Wilderness</td>\n",
       "      <td>February 20, 2015</td>\n",
       "      <td>Not Rated</td>\n",
       "      <td>Drama</td>\n",
       "      <td>85 min</td>\n",
       "      <td>54</td>\n",
       "      <td>4</td>\n",
       "      <td>7</td>\n",
       "      <td>None</td>\n",
       "      <td>None</td>\n",
       "      <td>None</td>\n",
       "      <td>None</td>\n",
       "      <td>None</td>\n",
       "    </tr>\n",
       "    <tr>\n",
       "      <th>4</th>\n",
       "      <td>Gypsy 83</td>\n",
       "      <td>April 16, 2004</td>\n",
       "      <td>R</td>\n",
       "      <td>Drama</td>\n",
       "      <td>94 min</td>\n",
       "      <td>47</td>\n",
       "      <td>5</td>\n",
       "      <td>6</td>\n",
       "      <td>2</td>\n",
       "      <td>7.6</td>\n",
       "      <td>7</td>\n",
       "      <td>None</td>\n",
       "      <td>2</td>\n",
       "    </tr>\n",
       "  </tbody>\n",
       "</table>\n",
       "</div>"
      ],
      "text/plain": [
       "                       movie            rel_date     rating  \\\n",
       "0                  Quiz Show  September 14, 1994      PG-13   \n",
       "1               Juwanna Mann       June 21, 2002      PG-13   \n",
       "2  Oz the Great and Powerful       March 8, 2013         PG   \n",
       "3         All the Wilderness   February 20, 2015  Not Rated   \n",
       "4                   Gypsy 83      April 16, 2004          R   \n",
       "\n",
       "                               genres  runtime c_score c_pos c_mix c_neg  \\\n",
       "0                      Drama, History  133 min      88    13  None  None   \n",
       "1       Drama, Sport, Comedy, Romance   91 min      24     2     5    18   \n",
       "2  Action, Adventure, Fantasy, Family  130 min      44    11    21    10   \n",
       "3                               Drama   85 min      54     4     7  None   \n",
       "4                               Drama   94 min      47     5     6     2   \n",
       "\n",
       "  u_score u_pos u_mix u_neg  \n",
       "0     8.7    84     2     4  \n",
       "1     5.8    11     3     6  \n",
       "2     6.1   225   178    77  \n",
       "3    None  None  None  None  \n",
       "4     7.6     7  None     2  "
      ]
     },
     "execution_count": 98,
     "metadata": {},
     "output_type": "execute_result"
    }
   ],
   "source": [
    "df1.head()"
   ]
  },
  {
   "cell_type": "code",
   "execution_count": 99,
   "metadata": {
    "collapsed": false
   },
   "outputs": [],
   "source": [
    "# Remove rows with null values in the following columns: runtime, c_score, u_score\n",
    "df2 = (df1\n",
    "       .dropna(subset = ['runtime', 'c_score', 'u_score'])\n",
    "       .query('u_score != \"tbd\"')\n",
    "       .assign(rel_date = lambda x: pd.to_datetime(x['rel_date']),\n",
    "               u_pos = lambda x: x['u_pos'].str.replace(',', ''),\n",
    "               u_mix = lambda x: x['u_mix'].str.replace(',', ''),\n",
    "               u_neg = lambda x: x['u_neg'].str.replace(',', ''),\n",
    "               runtime = lambda x: pd.to_numeric(x['runtime'].str.split(' ').str[0]).astype(int))\n",
    "      .reset_index()\n",
    "      .drop('index', axis = 1))\n",
    "\n",
    "#rename runtime to runtime_min"
   ]
  },
  {
   "cell_type": "code",
   "execution_count": 100,
   "metadata": {
    "collapsed": false
   },
   "outputs": [],
   "source": [
    "# Change review cols to int\n",
    "review_cols = list(df2.columns.values[5:])\n",
    "\n",
    "df2[review_cols] = df2[review_cols].apply(pd.to_numeric).fillna(value = 0)\n",
    "\n",
    "# Let's scale up the u_scores\n",
    "df2['u_score'] = df2.u_score.apply(lambda x: x*10)\n",
    "\n",
    "df2[review_cols] = df2[review_cols].astype(int)\n"
   ]
  },
  {
   "cell_type": "code",
   "execution_count": 101,
   "metadata": {
    "collapsed": false
   },
   "outputs": [
    {
     "data": {
      "text/plain": [
       "R            2564\n",
       "PG-13        1533\n",
       "PG            678\n",
       "Not Rated     677\n",
       "Unrated       218\n",
       "G             116\n",
       "TV-MA          83\n",
       "NC-17          48\n",
       "TV-14          21\n",
       "TV-PG          14\n",
       "Approved       11\n",
       "TV-G           10\n",
       "X               6\n",
       "Open            6\n",
       "M               5\n",
       "GP              4\n",
       "Passed          3\n",
       "PG--13          2\n",
       "TV-Y7           1\n",
       "Name: rating, dtype: int64"
      ]
     },
     "execution_count": 101,
     "metadata": {},
     "output_type": "execute_result"
    }
   ],
   "source": [
    "df2.rating.value_counts()"
   ]
  },
  {
   "cell_type": "code",
   "execution_count": 102,
   "metadata": {
    "collapsed": false
   },
   "outputs": [],
   "source": [
    "# Change 'Not Rated' to 'Unrated', 'TV-G' to 'G', 'TV-PG' to 'PG', 'GP' to 'PG', 'PG--13' to 'PG-13'\n",
    "#\n",
    "dict_rating = {'Not Rated' : 'Unrated', 'TV-MA' : 'R', 'TV-14' : 'PG-13', 'TV-PG' : 'PG', 'TV-G' : 'G',\n",
    "              'GP' : 'PG', 'PG--13' : 'PG-13', 'TV-Y7' : 'PG'}\n",
    "\n",
    "ratings_keep = ['G', 'PG', 'PG-13', 'R', 'Unrated']\n",
    "\n",
    "df3 = (df2\n",
    "       .replace({'rating' : dict_rating})\n",
    "       .query('rating in [\"G\", \"PG\", \"PG-13\", \"R\", \"Unrated\"]')) # how to make this better?"
   ]
  },
  {
   "cell_type": "code",
   "execution_count": 103,
   "metadata": {
    "collapsed": false
   },
   "outputs": [
    {
     "data": {
      "text/plain": [
       "R          2647\n",
       "PG-13      1556\n",
       "Unrated     895\n",
       "PG          697\n",
       "G           126\n",
       "Name: rating, dtype: int64"
      ]
     },
     "execution_count": 103,
     "metadata": {},
     "output_type": "execute_result"
    }
   ],
   "source": [
    "df3.rating.value_counts()"
   ]
  },
  {
   "cell_type": "code",
   "execution_count": 104,
   "metadata": {
    "collapsed": true
   },
   "outputs": [],
   "source": [
    "# Filter out movies that don't have a modeled rating.\n",
    "# This will filter out some movies that are mislabeled, e.g. Requiem for a Dream (rating labeled as \"Open\").\n",
    "# Movies with ratings like NC-17 were also excluded from the investigation."
   ]
  },
  {
   "cell_type": "code",
   "execution_count": 105,
   "metadata": {
    "collapsed": false
   },
   "outputs": [
    {
     "data": {
      "text/html": [
       "<div>\n",
       "<table border=\"1\" class=\"dataframe\">\n",
       "  <thead>\n",
       "    <tr style=\"text-align: right;\">\n",
       "      <th></th>\n",
       "      <th>movie</th>\n",
       "      <th>rel_date</th>\n",
       "      <th>rating</th>\n",
       "      <th>genres</th>\n",
       "      <th>runtime</th>\n",
       "      <th>c_score</th>\n",
       "      <th>c_pos</th>\n",
       "      <th>c_mix</th>\n",
       "      <th>c_neg</th>\n",
       "      <th>u_score</th>\n",
       "      <th>u_pos</th>\n",
       "      <th>u_mix</th>\n",
       "      <th>u_neg</th>\n",
       "    </tr>\n",
       "  </thead>\n",
       "  <tbody>\n",
       "    <tr>\n",
       "      <th>0</th>\n",
       "      <td>Quiz Show</td>\n",
       "      <td>1994-09-14</td>\n",
       "      <td>PG-13</td>\n",
       "      <td>Drama, History</td>\n",
       "      <td>133</td>\n",
       "      <td>88</td>\n",
       "      <td>13</td>\n",
       "      <td>0</td>\n",
       "      <td>0</td>\n",
       "      <td>87</td>\n",
       "      <td>84</td>\n",
       "      <td>2</td>\n",
       "      <td>4</td>\n",
       "    </tr>\n",
       "    <tr>\n",
       "      <th>1</th>\n",
       "      <td>Juwanna Mann</td>\n",
       "      <td>2002-06-21</td>\n",
       "      <td>PG-13</td>\n",
       "      <td>Drama, Sport, Comedy, Romance</td>\n",
       "      <td>91</td>\n",
       "      <td>24</td>\n",
       "      <td>2</td>\n",
       "      <td>5</td>\n",
       "      <td>18</td>\n",
       "      <td>58</td>\n",
       "      <td>11</td>\n",
       "      <td>3</td>\n",
       "      <td>6</td>\n",
       "    </tr>\n",
       "    <tr>\n",
       "      <th>2</th>\n",
       "      <td>Oz the Great and Powerful</td>\n",
       "      <td>2013-03-08</td>\n",
       "      <td>PG</td>\n",
       "      <td>Action, Adventure, Fantasy, Family</td>\n",
       "      <td>130</td>\n",
       "      <td>44</td>\n",
       "      <td>11</td>\n",
       "      <td>21</td>\n",
       "      <td>10</td>\n",
       "      <td>61</td>\n",
       "      <td>225</td>\n",
       "      <td>178</td>\n",
       "      <td>77</td>\n",
       "    </tr>\n",
       "    <tr>\n",
       "      <th>3</th>\n",
       "      <td>Gypsy 83</td>\n",
       "      <td>2004-04-16</td>\n",
       "      <td>R</td>\n",
       "      <td>Drama</td>\n",
       "      <td>94</td>\n",
       "      <td>47</td>\n",
       "      <td>5</td>\n",
       "      <td>6</td>\n",
       "      <td>2</td>\n",
       "      <td>76</td>\n",
       "      <td>7</td>\n",
       "      <td>0</td>\n",
       "      <td>2</td>\n",
       "    </tr>\n",
       "    <tr>\n",
       "      <th>4</th>\n",
       "      <td>Eyes Without a Face [re-release]</td>\n",
       "      <td>2003-10-31</td>\n",
       "      <td>Unrated</td>\n",
       "      <td>Drama, Mystery, Thriller, Horror</td>\n",
       "      <td>88</td>\n",
       "      <td>90</td>\n",
       "      <td>8</td>\n",
       "      <td>1</td>\n",
       "      <td>0</td>\n",
       "      <td>88</td>\n",
       "      <td>21</td>\n",
       "      <td>0</td>\n",
       "      <td>1</td>\n",
       "    </tr>\n",
       "  </tbody>\n",
       "</table>\n",
       "</div>"
      ],
      "text/plain": [
       "                              movie   rel_date   rating  \\\n",
       "0                         Quiz Show 1994-09-14    PG-13   \n",
       "1                      Juwanna Mann 2002-06-21    PG-13   \n",
       "2         Oz the Great and Powerful 2013-03-08       PG   \n",
       "3                          Gypsy 83 2004-04-16        R   \n",
       "4  Eyes Without a Face [re-release] 2003-10-31  Unrated   \n",
       "\n",
       "                               genres  runtime  c_score  c_pos  c_mix  c_neg  \\\n",
       "0                      Drama, History      133       88     13      0      0   \n",
       "1       Drama, Sport, Comedy, Romance       91       24      2      5     18   \n",
       "2  Action, Adventure, Fantasy, Family      130       44     11     21     10   \n",
       "3                               Drama       94       47      5      6      2   \n",
       "4    Drama, Mystery, Thriller, Horror       88       90      8      1      0   \n",
       "\n",
       "   u_score  u_pos  u_mix  u_neg  \n",
       "0       87     84      2      4  \n",
       "1       58     11      3      6  \n",
       "2       61    225    178     77  \n",
       "3       76      7      0      2  \n",
       "4       88     21      0      1  "
      ]
     },
     "execution_count": 105,
     "metadata": {},
     "output_type": "execute_result"
    }
   ],
   "source": [
    "df3.head()"
   ]
  },
  {
   "cell_type": "markdown",
   "metadata": {},
   "source": [
    "## Clean Data - Fix Genres"
   ]
  },
  {
   "cell_type": "code",
   "execution_count": 106,
   "metadata": {
    "collapsed": true
   },
   "outputs": [],
   "source": [
    "# Use a set instead of a list?\n",
    "# Clean genres? It includes both 'music' and 'musical'\n",
    "genres_list = []\n",
    "\n",
    "for genre in df3.genres.unique():\n",
    "    for g in genre.split(', '):\n",
    "        if g not in genres_list:\n",
    "            genres_list.append(g)\n",
    "\n",
    "genres_list.remove('')"
   ]
  },
  {
   "cell_type": "code",
   "execution_count": 107,
   "metadata": {
    "collapsed": false
   },
   "outputs": [],
   "source": [
    "genre_bool_dict = {genre : [genre in movie for movie in df2.genres] for genre in genres_list}\n",
    "\n",
    "genre_bool_df = pd.DataFrame.from_dict(genre_bool_dict)\n"
   ]
  },
  {
   "cell_type": "code",
   "execution_count": 108,
   "metadata": {
    "collapsed": false
   },
   "outputs": [],
   "source": [
    "df4 = df3.join(genre_bool_df)#.drop('genres')\n",
    "\n",
    "#df3[['movie', 'c_score', 'u_score']]"
   ]
  },
  {
   "cell_type": "code",
   "execution_count": 109,
   "metadata": {
    "collapsed": true
   },
   "outputs": [],
   "source": [
    "# how to make 'unrated' the base level?\n",
    "\n",
    "df_rating = patsy.dmatrix('rating', data = df4, return_type = 'dataframe')\n",
    "\n",
    "df5 = df4.join(df_rating)"
   ]
  },
  {
   "cell_type": "code",
   "execution_count": 110,
   "metadata": {
    "collapsed": false
   },
   "outputs": [],
   "source": [
    "new_colnames = {col : col.replace('[T.', '_').replace(']', '').replace('-', '_') for col in df5.columns.values}\n",
    "\n",
    "df5 = df5.rename(columns = new_colnames)"
   ]
  },
  {
   "cell_type": "markdown",
   "metadata": {},
   "source": [
    "## Engineer Features"
   ]
  },
  {
   "cell_type": "code",
   "execution_count": 172,
   "metadata": {
    "collapsed": false
   },
   "outputs": [],
   "source": [
    "# c_spread and c_num\n",
    "df6 = (df5.assign(c_score2 = (df5['c_pos'] - df5['c_neg'])/(df5['c_pos'] + df5['c_neg']),\n",
    "                  c_num = df5['c_pos'] + df5['c_mix'] + df5['c_neg']))\n",
    "\n",
    "df6 = (df6.assign(c_spread = np.sqrt(df5['c_pos']*(1 - df6['c_score2'])**2 + \n",
    "                              df5['c_mix']*(0 - df6['c_score2'])**2 + \n",
    "                              df5['c_neg']*(-1 - df6['c_score2'])**2)/df6['c_num'],\n",
    "                 review_diff = df5['u_score'] - df5['c_score']))"
   ]
  },
  {
   "cell_type": "markdown",
   "metadata": {},
   "source": [
    "## Pickle Data"
   ]
  },
  {
   "cell_type": "code",
   "execution_count": 173,
   "metadata": {
    "collapsed": false
   },
   "outputs": [],
   "source": [
    "df6.to_pickle('data_metacritic_cleaned2.pkl')"
   ]
  },
  {
   "cell_type": "code",
   "execution_count": 39,
   "metadata": {
    "collapsed": false
   },
   "outputs": [],
   "source": [
    "df_omdb = pd.read_pickle('data_omdb.pkl')"
   ]
  },
  {
   "cell_type": "code",
   "execution_count": 165,
   "metadata": {
    "collapsed": false
   },
   "outputs": [],
   "source": [
    "df_omdb2 = (df_omdb\n",
    "            .query('Gross != \"N/A\"')\n",
    "            .assign(Gross = pd.to_numeric(df_omdb2['Gross'].str.replace(',','').str.replace('$',''))))\n",
    "\n",
    "df_omdb2.columns = ['movie', 'year', 'gross']"
   ]
  },
  {
   "cell_type": "code",
   "execution_count": 174,
   "metadata": {
    "collapsed": false
   },
   "outputs": [],
   "source": [
    "cols = list(df6.columns.values)\n",
    "keepcols = cols[0:2] + cols[-2:] + cols[4:5] + cols[6:9] + cols[13:-2]\n",
    "\n",
    "df_metacritic = (df6\n",
    "                 [keepcols]\n",
    "                 .assign(year = df6['rel_date'].dt.year,\n",
    "                         movie = df6['movie'].str.replace('re-release]', '').str.replace('[', '')))\n",
    "                 #.rename({'movie' : 'Movie', 'year' : 'Year'})) # This wasn't working for some reason"
   ]
  },
  {
   "cell_type": "code",
   "execution_count": 127,
   "metadata": {
    "collapsed": false
   },
   "outputs": [
    {
     "data": {
      "text/plain": [
       "['movie', 'year']"
      ]
     },
     "execution_count": 127,
     "metadata": {},
     "output_type": "execute_result"
    }
   ],
   "source": [
    "#list(set(df_metacritic.columns.values) & set(df_omdb2.columns.values))"
   ]
  },
  {
   "cell_type": "code",
   "execution_count": 4,
   "metadata": {
    "collapsed": false
   },
   "outputs": [
    {
     "ename": "NameError",
     "evalue": "name 'df_omdb2' is not defined",
     "output_type": "error",
     "traceback": [
      "\u001b[0;31m---------------------------------------------------------------------------\u001b[0m",
      "\u001b[0;31mNameError\u001b[0m                                 Traceback (most recent call last)",
      "\u001b[0;32m<ipython-input-4-16602851be22>\u001b[0m in \u001b[0;36m<module>\u001b[0;34m()\u001b[0m\n\u001b[0;32m----> 1\u001b[0;31m \u001b[0mdf_join\u001b[0m \u001b[0;34m=\u001b[0m \u001b[0mdf_omdb2\u001b[0m\u001b[0;34m.\u001b[0m\u001b[0mmerge\u001b[0m\u001b[0;34m(\u001b[0m\u001b[0mdf_metacritic\u001b[0m\u001b[0;34m,\u001b[0m \u001b[0mhow\u001b[0m \u001b[0;34m=\u001b[0m \u001b[0;34m'left'\u001b[0m\u001b[0;34m,\u001b[0m \u001b[0mon\u001b[0m \u001b[0;34m=\u001b[0m \u001b[0;34m[\u001b[0m\u001b[0;34m'movie'\u001b[0m\u001b[0;34m,\u001b[0m \u001b[0;34m'year'\u001b[0m\u001b[0;34m]\u001b[0m\u001b[0;34m)\u001b[0m\u001b[0;34m\u001b[0m\u001b[0m\n\u001b[0m",
      "\u001b[0;31mNameError\u001b[0m: name 'df_omdb2' is not defined"
     ]
    }
   ],
   "source": [
    "df_join = df_omdb2.merge(df_metacritic, how = 'left', on = ['movie', 'year'])"
   ]
  },
  {
   "cell_type": "code",
   "execution_count": 324,
   "metadata": {
    "collapsed": false
   },
   "outputs": [
    {
     "data": {
      "text/html": [
       "<div>\n",
       "<table border=\"1\" class=\"dataframe\">\n",
       "  <thead>\n",
       "    <tr style=\"text-align: right;\">\n",
       "      <th></th>\n",
       "      <th>min</th>\n",
       "      <th>max</th>\n",
       "    </tr>\n",
       "  </thead>\n",
       "  <tbody>\n",
       "    <tr>\n",
       "      <th>review_diff</th>\n",
       "      <td>-61.0</td>\n",
       "      <td>7.300000e+01</td>\n",
       "    </tr>\n",
       "    <tr>\n",
       "      <th>c_score2</th>\n",
       "      <td>-1.0</td>\n",
       "      <td>1.000000e+00</td>\n",
       "    </tr>\n",
       "    <tr>\n",
       "      <th>c_spread</th>\n",
       "      <td>0.0</td>\n",
       "      <td>4.330127e-01</td>\n",
       "    </tr>\n",
       "    <tr>\n",
       "      <th>c_pos</th>\n",
       "      <td>0.0</td>\n",
       "      <td>5.100000e+01</td>\n",
       "    </tr>\n",
       "    <tr>\n",
       "      <th>c_mix</th>\n",
       "      <td>0.0</td>\n",
       "      <td>3.200000e+01</td>\n",
       "    </tr>\n",
       "    <tr>\n",
       "      <th>c_neg</th>\n",
       "      <td>0.0</td>\n",
       "      <td>2.700000e+01</td>\n",
       "    </tr>\n",
       "    <tr>\n",
       "      <th>rating_PG</th>\n",
       "      <td>0.0</td>\n",
       "      <td>1.000000e+00</td>\n",
       "    </tr>\n",
       "    <tr>\n",
       "      <th>rating_PG_13</th>\n",
       "      <td>0.0</td>\n",
       "      <td>1.000000e+00</td>\n",
       "    </tr>\n",
       "    <tr>\n",
       "      <th>rating_R</th>\n",
       "      <td>0.0</td>\n",
       "      <td>1.000000e+00</td>\n",
       "    </tr>\n",
       "    <tr>\n",
       "      <th>rating_Unrated</th>\n",
       "      <td>0.0</td>\n",
       "      <td>1.000000e+00</td>\n",
       "    </tr>\n",
       "    <tr>\n",
       "      <th>Intercept</th>\n",
       "      <td>1.0</td>\n",
       "      <td>1.000000e+00</td>\n",
       "    </tr>\n",
       "    <tr>\n",
       "      <th>c_num</th>\n",
       "      <td>4.0</td>\n",
       "      <td>5.300000e+01</td>\n",
       "    </tr>\n",
       "    <tr>\n",
       "      <th>runtime</th>\n",
       "      <td>40.0</td>\n",
       "      <td>2.190000e+02</td>\n",
       "    </tr>\n",
       "    <tr>\n",
       "      <th>gross</th>\n",
       "      <td>382.0</td>\n",
       "      <td>7.497000e+08</td>\n",
       "    </tr>\n",
       "    <tr>\n",
       "      <th>year</th>\n",
       "      <td>1980.0</td>\n",
       "      <td>2.017000e+03</td>\n",
       "    </tr>\n",
       "  </tbody>\n",
       "</table>\n",
       "</div>"
      ],
      "text/plain": [
       "                   min           max\n",
       "review_diff      -61.0  7.300000e+01\n",
       "c_score2          -1.0  1.000000e+00\n",
       "c_spread           0.0  4.330127e-01\n",
       "c_pos              0.0  5.100000e+01\n",
       "c_mix              0.0  3.200000e+01\n",
       "c_neg              0.0  2.700000e+01\n",
       "rating_PG          0.0  1.000000e+00\n",
       "rating_PG_13       0.0  1.000000e+00\n",
       "rating_R           0.0  1.000000e+00\n",
       "rating_Unrated     0.0  1.000000e+00\n",
       "Intercept          1.0  1.000000e+00\n",
       "c_num              4.0  5.300000e+01\n",
       "runtime           40.0  2.190000e+02\n",
       "gross            382.0  7.497000e+08\n",
       "year            1980.0  2.017000e+03"
      ]
     },
     "execution_count": 324,
     "metadata": {},
     "output_type": "execute_result"
    }
   ],
   "source": [
    "df_join.describe().loc[['min', 'max']].T.sort_values('min')\n",
    "# Normalize runtime, gross, year"
   ]
  },
  {
   "cell_type": "code",
   "execution_count": 325,
   "metadata": {
    "collapsed": false
   },
   "outputs": [
    {
     "data": {
      "text/html": [
       "<div>\n",
       "<table border=\"1\" class=\"dataframe\">\n",
       "  <thead>\n",
       "    <tr style=\"text-align: right;\">\n",
       "      <th></th>\n",
       "      <th>runtime</th>\n",
       "      <th>gross</th>\n",
       "      <th>year</th>\n",
       "    </tr>\n",
       "  </thead>\n",
       "  <tbody>\n",
       "    <tr>\n",
       "      <th>mean</th>\n",
       "      <td>106.520996</td>\n",
       "      <td>4.724032e+07</td>\n",
       "      <td>2008.463768</td>\n",
       "    </tr>\n",
       "    <tr>\n",
       "      <th>std</th>\n",
       "      <td>17.632700</td>\n",
       "      <td>7.067365e+07</td>\n",
       "      <td>4.734561</td>\n",
       "    </tr>\n",
       "  </tbody>\n",
       "</table>\n",
       "</div>"
      ],
      "text/plain": [
       "         runtime         gross         year\n",
       "mean  106.520996  4.724032e+07  2008.463768\n",
       "std    17.632700  7.067365e+07     4.734561"
      ]
     },
     "execution_count": 325,
     "metadata": {},
     "output_type": "execute_result"
    }
   ],
   "source": [
    "# Get averages and stddevs for runtime, gross, year\n",
    "means_stds = df_join.describe().loc[['mean', 'std'], ['runtime', 'gross', 'year']]\n",
    "means_stds"
   ]
  },
  {
   "cell_type": "code",
   "execution_count": 326,
   "metadata": {
    "collapsed": false
   },
   "outputs": [
    {
     "data": {
      "text/html": [
       "<div>\n",
       "<table border=\"1\" class=\"dataframe\">\n",
       "  <thead>\n",
       "    <tr style=\"text-align: right;\">\n",
       "      <th></th>\n",
       "      <th>year</th>\n",
       "    </tr>\n",
       "  </thead>\n",
       "  <tbody>\n",
       "    <tr>\n",
       "      <th>min</th>\n",
       "      <td>1980.0</td>\n",
       "    </tr>\n",
       "    <tr>\n",
       "      <th>max</th>\n",
       "      <td>2017.0</td>\n",
       "    </tr>\n",
       "  </tbody>\n",
       "</table>\n",
       "</div>"
      ],
      "text/plain": [
       "       year\n",
       "min  1980.0\n",
       "max  2017.0"
      ]
     },
     "execution_count": 326,
     "metadata": {},
     "output_type": "execute_result"
    }
   ],
   "source": [
    "# Actually, let's normalize year differently\n",
    "year_stuff = df_join.describe().loc[['min', 'max'], ['year']]\n",
    "year_stuff"
   ]
  },
  {
   "cell_type": "code",
   "execution_count": 327,
   "metadata": {
    "collapsed": false
   },
   "outputs": [
    {
     "data": {
      "text/html": [
       "<div>\n",
       "<table border=\"1\" class=\"dataframe\">\n",
       "  <thead>\n",
       "    <tr style=\"text-align: right;\">\n",
       "      <th></th>\n",
       "      <th>runtime</th>\n",
       "      <th>gross</th>\n",
       "      <th>year</th>\n",
       "    </tr>\n",
       "  </thead>\n",
       "  <tbody>\n",
       "    <tr>\n",
       "      <th>mean</th>\n",
       "      <td>0.000056</td>\n",
       "      <td>-2.855674e-08</td>\n",
       "      <td>0.769291</td>\n",
       "    </tr>\n",
       "    <tr>\n",
       "      <th>std</th>\n",
       "      <td>1.000153</td>\n",
       "      <td>1.000000e+00</td>\n",
       "      <td>0.127961</td>\n",
       "    </tr>\n",
       "    <tr>\n",
       "      <th>min</th>\n",
       "      <td>-3.773114</td>\n",
       "      <td>-6.684236e-01</td>\n",
       "      <td>0.000000</td>\n",
       "    </tr>\n",
       "    <tr>\n",
       "      <th>max</th>\n",
       "      <td>6.380034</td>\n",
       "      <td>9.939485e+00</td>\n",
       "      <td>1.000000</td>\n",
       "    </tr>\n",
       "  </tbody>\n",
       "</table>\n",
       "</div>"
      ],
      "text/plain": [
       "       runtime         gross      year\n",
       "mean  0.000056 -2.855674e-08  0.769291\n",
       "std   1.000153  1.000000e+00  0.127961\n",
       "min  -3.773114 -6.684236e-01  0.000000\n",
       "max   6.380034  9.939485e+00  1.000000"
      ]
     },
     "execution_count": 327,
     "metadata": {},
     "output_type": "execute_result"
    }
   ],
   "source": [
    "df_join = (df_join\n",
    "          .assign(runtime = (df_join['runtime'] - 106.52)/17.63,\n",
    "                  gross = (df_join['gross'] - 47240320)/70673650,\n",
    "                  year = (df_join['year'] - 1980)/(2017 - 1980)))\n",
    "\n",
    "df_join.describe().loc[['mean', 'std', 'min', 'max'], ['runtime', 'gross', 'year']]"
   ]
  },
  {
   "cell_type": "markdown",
   "metadata": {},
   "source": [
    "## Inspect Data"
   ]
  },
  {
   "cell_type": "code",
   "execution_count": 328,
   "metadata": {
    "collapsed": false
   },
   "outputs": [
    {
     "data": {
      "text/plain": [
       "[('c_pos', 'c_spread', -0.69999999999999996),\n",
       " ('c_pos', 'review_diff', -0.53000000000000003),\n",
       " ('c_neg', 'c_pos', -0.66000000000000003),\n",
       " ('Family', 'Animation', 0.56999999999999995),\n",
       " ('Musical', 'Music', 0.56000000000000005),\n",
       " ('rating_PG', 'Family', 0.66000000000000003),\n",
       " ('rating_R', 'rating_PG_13', -0.60999999999999999),\n",
       " ('c_num', 'c_spread', -0.64000000000000001),\n",
       " ('c_num', 'c_pos', 0.66000000000000003),\n",
       " ('c_score2', 'review_diff', -0.51000000000000001),\n",
       " ('c_score2', 'c_pos', 0.81000000000000005),\n",
       " ('c_score2', 'c_neg', -0.84999999999999998)]"
      ]
     },
     "execution_count": 328,
     "metadata": {},
     "output_type": "execute_result"
    }
   ],
   "source": [
    "def find_corrs(df, cols, threshold, prec = 2):\n",
    "    df_corr = df[cols].corr()\n",
    "    \n",
    "    list_corr = []\n",
    "    \n",
    "    for i in range(df_corr.shape[0]):\n",
    "        for j in range(df_corr.shape[1]):\n",
    "            correl = df_corr.iloc[i, j]\n",
    "            if i > j and abs(correl) > threshold:\n",
    "                row = df_corr.index[i]\n",
    "                col = df_corr.index[j]\n",
    "                list_corr.append((row, col, round(correl, prec))) # The rounding seems odd (see results)\n",
    "\n",
    "    return list_corr\n",
    "\n",
    "features = list(df_join.columns.values).copy()\n",
    "\n",
    "find_corrs(df_join, features, threshold = 0.5)\n",
    "    "
   ]
  },
  {
   "cell_type": "code",
   "execution_count": 177,
   "metadata": {
    "collapsed": false
   },
   "outputs": [
    {
     "data": {
      "text/plain": [
       "42"
      ]
     },
     "execution_count": 177,
     "metadata": {},
     "output_type": "execute_result"
    }
   ],
   "source": [
    "len(df_join.columns.values)"
   ]
  },
  {
   "cell_type": "code",
   "execution_count": 329,
   "metadata": {
    "collapsed": false
   },
   "outputs": [
    {
     "data": {
      "text/plain": [
       "c_pos            -0.534333\n",
       "c_score2         -0.510994\n",
       "c_num            -0.229557\n",
       "year             -0.223468\n",
       "Documentary      -0.172023\n",
       "Biography        -0.112785\n",
       "rating_Unrated   -0.101695\n",
       "Drama            -0.098915\n",
       "History          -0.086238\n",
       "runtime          -0.080457\n",
       "News             -0.063684\n",
       "gross            -0.055859\n",
       "rating_R         -0.047583\n",
       "Animation        -0.040893\n",
       "War              -0.039038\n",
       "Adult            -0.037554\n",
       "Music            -0.025839\n",
       "Short            -0.018656\n",
       "Musical          -0.002636\n",
       "Family           -0.000591\n",
       "Adventure         0.004152\n",
       "Sci_Fi            0.008916\n",
       "Western           0.009912\n",
       "Fantasy           0.015346\n",
       "rating_PG         0.021173\n",
       "Sport             0.048477\n",
       "Mystery           0.055642\n",
       "Crime             0.066300\n",
       "Romance           0.071720\n",
       "Comedy            0.088292\n",
       "Thriller          0.095511\n",
       "rating_PG_13      0.099586\n",
       "Horror            0.100687\n",
       "Action            0.101998\n",
       "c_mix             0.258329\n",
       "c_spread          0.397963\n",
       "c_neg             0.454129\n",
       "review_diff       1.000000\n",
       "Film_Noir              NaN\n",
       "Intercept              NaN\n",
       "Name: review_diff, dtype: float64"
      ]
     },
     "execution_count": 329,
     "metadata": {},
     "output_type": "execute_result"
    }
   ],
   "source": [
    "df_corr = df_join.corr()\n",
    "df_corr.iloc[3].sort_values()"
   ]
  },
  {
   "cell_type": "code",
   "execution_count": 330,
   "metadata": {
    "collapsed": false
   },
   "outputs": [],
   "source": [
    "nulls = df_join.isnull().any(axis = 1)\n",
    "\n",
    "nulls2 = nulls[nulls].index.values\n",
    "\n",
    "df_join.drop(nulls2, inplace = True)\n"
   ]
  },
  {
   "cell_type": "code",
   "execution_count": 3,
   "metadata": {
    "collapsed": false
   },
   "outputs": [
    {
     "ename": "NameError",
     "evalue": "name 'df_join' is not defined",
     "output_type": "error",
     "traceback": [
      "\u001b[0;31m---------------------------------------------------------------------------\u001b[0m",
      "\u001b[0;31mNameError\u001b[0m                                 Traceback (most recent call last)",
      "\u001b[0;32m<ipython-input-3-40cae0d8a896>\u001b[0m in \u001b[0;36m<module>\u001b[0;34m()\u001b[0m\n\u001b[1;32m      2\u001b[0m \u001b[0mfig\u001b[0m\u001b[0;34m.\u001b[0m\u001b[0mset_size_inches\u001b[0m\u001b[0;34m(\u001b[0m\u001b[0;36m5\u001b[0m\u001b[0;34m,\u001b[0m\u001b[0;36m5\u001b[0m\u001b[0;34m)\u001b[0m\u001b[0;34m\u001b[0m\u001b[0m\n\u001b[1;32m      3\u001b[0m \u001b[0;34m\u001b[0m\u001b[0m\n\u001b[0;32m----> 4\u001b[0;31m \u001b[0max\u001b[0m\u001b[0;34m.\u001b[0m\u001b[0mhist\u001b[0m\u001b[0;34m(\u001b[0m\u001b[0mdf_join\u001b[0m\u001b[0;34m.\u001b[0m\u001b[0mreview_diff\u001b[0m\u001b[0;34m,\u001b[0m \u001b[0mlabel\u001b[0m\u001b[0;34m=\u001b[0m\u001b[0;34m'review_diff'\u001b[0m\u001b[0;34m)\u001b[0m\u001b[0;34m\u001b[0m\u001b[0m\n\u001b[0m\u001b[1;32m      5\u001b[0m \u001b[0;34m\u001b[0m\u001b[0m\n\u001b[1;32m      6\u001b[0m \u001b[0;31m#ax.yticks(np.arange(0, 120, 20)) # AttributeError: 'AxesSubplot' object has no attribute 'yticks'\u001b[0m\u001b[0;34m\u001b[0m\u001b[0;34m\u001b[0m\u001b[0m\n",
      "\u001b[0;31mNameError\u001b[0m: name 'df_join' is not defined"
     ]
    },
    {
     "data": {
      "image/png": "[encoded data removed]",
      "text/plain": [
       "<matplotlib.figure.Figure at 0x10ed4a240>"
      ]
     },
     "metadata": {},
     "output_type": "display_data"
    }
   ],
   "source": [
    "fig,ax = plt.subplots(1,1)\n",
    "fig.set_size_inches(5,5)\n",
    "\n",
    "ax.hist(df_join.review_diff, label='review_diff')\n",
    "\n",
    "#ax.yticks(np.arange(0, 120, 20)) # AttributeError: 'AxesSubplot' object has no attribute 'yticks'\n",
    "#ax.set_ylim((0, 110))\n",
    "#ax.set_xlim((0, 110))\n",
    "ax.set_xlabel('Review Differential')\n",
    "ax.set_ylabel('Count')\n",
    "ax.set_title('Histogram of \"Review Differential\"')"
   ]
  },
  {
   "cell_type": "markdown",
   "metadata": {},
   "source": [
    "## Simple Linear Regression"
   ]
  },
  {
   "cell_type": "code",
   "execution_count": 273,
   "metadata": {
    "collapsed": false
   },
   "outputs": [
    {
     "data": {
      "text/html": [
       "<table class=\"simpletable\">\n",
       "<caption>OLS Regression Results</caption>\n",
       "<tr>\n",
       "  <th>Dep. Variable:</th>       <td>review_diff</td>   <th>  R-squared:         </th> <td>   0.158</td> \n",
       "</tr>\n",
       "<tr>\n",
       "  <th>Model:</th>                   <td>OLS</td>       <th>  Adj. R-squared:    </th> <td>   0.158</td> \n",
       "</tr>\n",
       "<tr>\n",
       "  <th>Method:</th>             <td>Least Squares</td>  <th>  F-statistic:       </th> <td>   505.4</td> \n",
       "</tr>\n",
       "<tr>\n",
       "  <th>Date:</th>             <td>Wed, 19 Apr 2017</td> <th>  Prob (F-statistic):</th> <td>1.05e-102</td>\n",
       "</tr>\n",
       "<tr>\n",
       "  <th>Time:</th>                 <td>19:02:19</td>     <th>  Log-Likelihood:    </th> <td> -10924.</td> \n",
       "</tr>\n",
       "<tr>\n",
       "  <th>No. Observations:</th>      <td>  2688</td>      <th>  AIC:               </th> <td>2.185e+04</td>\n",
       "</tr>\n",
       "<tr>\n",
       "  <th>Df Residuals:</th>          <td>  2686</td>      <th>  BIC:               </th> <td>2.186e+04</td>\n",
       "</tr>\n",
       "<tr>\n",
       "  <th>Df Model:</th>              <td>     1</td>      <th>                     </th>     <td> </td>    \n",
       "</tr>\n",
       "<tr>\n",
       "  <th>Covariance Type:</th>      <td>nonrobust</td>    <th>                     </th>     <td> </td>    \n",
       "</tr>\n",
       "</table>\n",
       "<table class=\"simpletable\">\n",
       "<tr>\n",
       "      <td></td>         <th>coef</th>     <th>std err</th>      <th>t</th>      <th>P>|t|</th>  <th>[0.025</th>    <th>0.975]</th>  \n",
       "</tr>\n",
       "<tr>\n",
       "  <th>Intercept</th> <td>   -2.9267</td> <td>    0.713</td> <td>   -4.105</td> <td> 0.000</td> <td>   -4.325</td> <td>   -1.529</td>\n",
       "</tr>\n",
       "<tr>\n",
       "  <th>c_spread</th>  <td>  126.2252</td> <td>    5.614</td> <td>   22.482</td> <td> 0.000</td> <td>  115.216</td> <td>  137.234</td>\n",
       "</tr>\n",
       "</table>\n",
       "<table class=\"simpletable\">\n",
       "<tr>\n",
       "  <th>Omnibus:</th>       <td>84.971</td> <th>  Durbin-Watson:     </th> <td>   1.979</td>\n",
       "</tr>\n",
       "<tr>\n",
       "  <th>Prob(Omnibus):</th> <td> 0.000</td> <th>  Jarque-Bera (JB):  </th> <td> 178.191</td>\n",
       "</tr>\n",
       "<tr>\n",
       "  <th>Skew:</th>          <td> 0.192</td> <th>  Prob(JB):          </th> <td>2.02e-39</td>\n",
       "</tr>\n",
       "<tr>\n",
       "  <th>Kurtosis:</th>      <td> 4.202</td> <th>  Cond. No.          </th> <td>    20.9</td>\n",
       "</tr>\n",
       "</table>"
      ],
      "text/plain": [
       "<class 'statsmodels.iolib.summary.Summary'>\n",
       "\"\"\"\n",
       "                            OLS Regression Results                            \n",
       "==============================================================================\n",
       "Dep. Variable:            review_diff   R-squared:                       0.158\n",
       "Model:                            OLS   Adj. R-squared:                  0.158\n",
       "Method:                 Least Squares   F-statistic:                     505.4\n",
       "Date:                Wed, 19 Apr 2017   Prob (F-statistic):          1.05e-102\n",
       "Time:                        19:02:19   Log-Likelihood:                -10924.\n",
       "No. Observations:                2688   AIC:                         2.185e+04\n",
       "Df Residuals:                    2686   BIC:                         2.186e+04\n",
       "Df Model:                           1                                         \n",
       "Covariance Type:            nonrobust                                         \n",
       "==============================================================================\n",
       "                 coef    std err          t      P>|t|      [0.025      0.975]\n",
       "------------------------------------------------------------------------------\n",
       "Intercept     -2.9267      0.713     -4.105      0.000      -4.325      -1.529\n",
       "c_spread     126.2252      5.614     22.482      0.000     115.216     137.234\n",
       "==============================================================================\n",
       "Omnibus:                       84.971   Durbin-Watson:                   1.979\n",
       "Prob(Omnibus):                  0.000   Jarque-Bera (JB):              178.191\n",
       "Skew:                           0.192   Prob(JB):                     2.02e-39\n",
       "Kurtosis:                       4.202   Cond. No.                         20.9\n",
       "==============================================================================\n",
       "\n",
       "Warnings:\n",
       "[1] Standard Errors assume that the covariance matrix of the errors is correctly specified.\n",
       "\"\"\""
      ]
     },
     "execution_count": 273,
     "metadata": {},
     "output_type": "execute_result"
    }
   ],
   "source": [
    "# Simple linear regression of u_score vs c_score\n",
    "lm1 = smf.ols('review_diff ~ c_spread', \n",
    "              data = df_join)\n",
    "\n",
    "fit1 = lm1.fit()\n",
    "\n",
    "fit1.summary()"
   ]
  },
  {
   "cell_type": "markdown",
   "metadata": {},
   "source": [
    "## Model Selection"
   ]
  },
  {
   "cell_type": "code",
   "execution_count": 254,
   "metadata": {
    "collapsed": false
   },
   "outputs": [],
   "source": [
    "# Split data into predictors (X) and target (y)\n",
    "X = df_join.drop(df_join.columns[[0, 3, 5, 7, 8, 9, -2, -1]], axis = 1)\n",
    "y = df_join['review_diff']\n"
   ]
  },
  {
   "cell_type": "code",
   "execution_count": 255,
   "metadata": {
    "collapsed": true
   },
   "outputs": [],
   "source": [
    "# Create training and test sets\n",
    "X_train, X_test, y_train, y_test = train_test_split(X, y, test_size=0.3)"
   ]
  },
  {
   "cell_type": "code",
   "execution_count": 256,
   "metadata": {
    "collapsed": false
   },
   "outputs": [],
   "source": [
    "# Create KFold indices\n",
    "kf = KFold(n_splits=5, shuffle=True)"
   ]
  },
  {
   "cell_type": "code",
   "execution_count": 261,
   "metadata": {
    "collapsed": false
   },
   "outputs": [
    {
     "name": "stdout",
     "output_type": "stream",
     "text": [
      "{1e-07: 917.340348888327, 1e-05: 920.3231140310698, 0.001: 924.8073007169327, 0.1: 945.6258895059318, 1: 1134.1468280655324, 100: 1198.9734172708113}\n"
     ]
    }
   ],
   "source": [
    "# Do the Lasso\n",
    "# Could use LassoCV as well!\n",
    "\n",
    "all_scores={}\n",
    "alphas=[1e-7,1e-5,1e-3,1e-1,1,100]\n",
    "\n",
    "for a in alphas:\n",
    "    est=Lasso(alpha=a)\n",
    "    \n",
    "    mse_alpha = 0\n",
    "        \n",
    "    for train, test in kf.split(X_train):\n",
    "        x_tr=X_train.iloc[train]\n",
    "        y_tr=y_train.iloc[train]\n",
    "\n",
    "        x_te=X_train.iloc[test]\n",
    "        y_te=y_train.iloc[test]\n",
    "\n",
    "        est.fit(x_tr,y_tr)\n",
    "        mse=np.mean((y_te-est.predict(x_te))**2)\n",
    "\n",
    "        mse_alpha += mse\n",
    "    \n",
    "    all_scores[a] = mse_alpha\n",
    "\n",
    "print(all_scores)"
   ]
  },
  {
   "cell_type": "code",
   "execution_count": 262,
   "metadata": {
    "collapsed": false
   },
   "outputs": [
    {
     "name": "stderr",
     "output_type": "stream",
     "text": [
      "/Users/warren/anaconda/lib/python3.6/site-packages/matplotlib/axes/_axes.py:545: UserWarning: No labelled objects found. Use label='...' kwarg on individual plots.\n",
      "  warnings.warn(\"No labelled objects found. \"\n"
     ]
    },
    {
     "data": {
      "text/plain": [
       "<matplotlib.text.Text at 0x151679fd0>"
      ]
     },
     "execution_count": 262,
     "metadata": {},
     "output_type": "execute_result"
    },
    {
     "data": {
      "image/png": "[encoded data removed]",
      "text/plain": [
       "<matplotlib.figure.Figure at 0x1527701d0>"
      ]
     },
     "metadata": {},
     "output_type": "display_data"
    }
   ],
   "source": [
    "# Which alpha is the best for our model ? Looks like alpha= 0\n",
    "f = plt.figure(figsize=(8,6))\n",
    "#plt.ylim(0,0.1)\n",
    "\n",
    "# for a in alphas:\n",
    "#     plt.bar(all_scores[a],label = 'cv %s'%a)\n",
    "plt.semilogx(list(all_scores.keys()), list(all_scores.values()),marker='o')\n",
    "plt.legend()\n",
    "plt.xlabel('alphas')\n",
    "plt.ylabel('MSE')"
   ]
  },
  {
   "cell_type": "code",
   "execution_count": 267,
   "metadata": {
    "collapsed": false
   },
   "outputs": [
    {
     "name": "stdout",
     "output_type": "stream",
     "text": [
      "[('year', -0.62887473288368678), ('gross', -1.1106179716230617e-08), ('c_spread', 114.57488041927147), ('runtime', 0.012282844656215439), ('Action', 3.0412297948005906), ('Adult', -16.739781239315313), ('Adventure', -0.063398679906346969), ('Animation', -1.8746062820900646), ('Biography', -0.18137070531010854), ('Comedy', 1.7434861010900049), ('Crime', 1.9477458585315817), ('Documentary', -4.6757517359831917), ('Drama', -2.2863213431121179), ('Family', 0.41831216518514291), ('Fantasy', 0.14672731993844373), ('Film_Noir', 0.0), ('History', -0.91685997769114025), ('Horror', 2.7183514208227235), ('Music', -1.2013579713702449), ('Musical', 1.2448995549175248), ('Mystery', 2.0513970113649798), ('News', -1.8242212711096195), ('Romance', 2.2963978324904861), ('Sci_Fi', -0.96166482497807004), ('Short', -2.9485791420102192), ('Sport', 2.6631292553634567), ('Thriller', 0.6122347186136895), ('War', -0.82780648044203897), ('Western', 1.6201114306511335), ('Intercept', 0.0), ('rating_PG', 3.344163497979141), ('rating_PG_13', 4.5598824631534542), ('rating_R', 2.3134617442804633), ('rating_Unrated', -0.39068626425764635)]\n",
      "1256.57789525\n",
      "Test: 0.265214765212\n"
     ]
    }
   ],
   "source": [
    "# Do the Lasso for the optimal alpha/lambda value\n",
    "final_alpha = 1e-3\n",
    "\n",
    "est = Lasso(alpha = final_alpha)\n",
    "\n",
    "est.fit(X,y)\n",
    "\n",
    "mse=np.mean((y-est.predict(X))**2)\n",
    "\n",
    "print(list(zip(X.columns.values, est.coef_)))\n",
    "print(est.intercept_)\n",
    "# Evaluate the model against the testing data\n",
    "print('Test:', est.score(X_test, y_test))"
   ]
  },
  {
   "cell_type": "code",
   "execution_count": 269,
   "metadata": {
    "collapsed": false
   },
   "outputs": [
    {
     "data": {
      "text/plain": [
       "0.2458217182200623"
      ]
     },
     "execution_count": 269,
     "metadata": {},
     "output_type": "execute_result"
    }
   ],
   "source": [
    "rcv = RidgeCV(cv=5)\n",
    "\n",
    "rcv.fit(X_train, y_train)\n",
    "rcv.score(X_test, y_test)"
   ]
  },
  {
   "cell_type": "code",
   "execution_count": 272,
   "metadata": {
    "collapsed": false
   },
   "outputs": [
    {
     "data": {
      "text/plain": [
       "0.006270218425264984"
      ]
     },
     "execution_count": 272,
     "metadata": {},
     "output_type": "execute_result"
    }
   ],
   "source": [
    "lcv = LassoCV(cv = 5)\n",
    "\n",
    "lcv.fit(X_train, y_train)\n",
    "lcv.score(X_test, y_test)"
   ]
  }
 ],
 "metadata": {
  "kernelspec": {
   "display_name": "Python 3",
   "language": "python",
   "name": "python3"
  },
  "language_info": {
   "codemirror_mode": {
    "name": "ipython",
    "version": 3
   },
   "file_extension": ".py",
   "mimetype": "text/x-python",
   "name": "python",
   "nbconvert_exporter": "python",
   "pygments_lexer": "ipython3",
   "version": "3.6.0"
  }
 },
 "nbformat": 4,
 "nbformat_minor": 2
}
