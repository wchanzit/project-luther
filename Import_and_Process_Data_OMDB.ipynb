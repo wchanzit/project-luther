{
 "cells": [
  {
   "cell_type": "code",
   "execution_count": 5,
   "metadata": {
    "collapsed": true
   },
   "outputs": [],
   "source": [
    "# Import as necessary\n",
    "import requests\n",
    "import pandas as pd"
   ]
  },
  {
   "cell_type": "code",
   "execution_count": 52,
   "metadata": {
    "collapsed": false
   },
   "outputs": [],
   "source": [
    "def get_omdb_list(film, year):\n",
    "    response = requests.get('http://www.omdbapi.com/?', params = {'t': film, 'y': str(year)})\n",
    "    my_list = ['BoxOffice']#, 'Rated', 'Genre', 'Ratings', 'Runtime', 'Released', 'Production', 'Director', 'Actors']\n",
    "    newlist = []\n",
    "    for thing in my_list:\n",
    "        try:\n",
    "            add = response.json()[thing]\n",
    "            newlist.append(add)\n",
    "        except:\n",
    "            newlist.append('N/A')\n",
    "    return [film, year] + newlist"
   ]
  },
  {
   "cell_type": "code",
   "execution_count": 6,
   "metadata": {
    "collapsed": false
   },
   "outputs": [],
   "source": [
    "# Load pickle file\n",
    "df1 = pd.read_pickle('data_metacritic_cleaned.pkl')"
   ]
  },
  {
   "cell_type": "code",
   "execution_count": 21,
   "metadata": {
    "collapsed": false
   },
   "outputs": [],
   "source": [
    "df2 = (df1\n",
    "       [['movie', 'rel_date']]\n",
    "       .assign(year = df1['rel_date'].dt.year,\n",
    "               movie = df1['movie'].str.replace('re-release]', '').str.replace('[', ''))\n",
    "       .drop('rel_date', axis = 1))\n",
    "\n",
    "#df2.head()"
   ]
  },
  {
   "cell_type": "code",
   "execution_count": 23,
   "metadata": {
    "collapsed": false
   },
   "outputs": [
    {
     "data": {
      "text/html": [
       "<div>\n",
       "<table border=\"1\" class=\"dataframe\">\n",
       "  <thead>\n",
       "    <tr style=\"text-align: right;\">\n",
       "      <th></th>\n",
       "      <th>movie</th>\n",
       "      <th>year</th>\n",
       "    </tr>\n",
       "  </thead>\n",
       "  <tbody>\n",
       "    <tr>\n",
       "      <th>0</th>\n",
       "      <td>Quiz Show</td>\n",
       "      <td>1994</td>\n",
       "    </tr>\n",
       "    <tr>\n",
       "      <th>1</th>\n",
       "      <td>Juwanna Mann</td>\n",
       "      <td>2002</td>\n",
       "    </tr>\n",
       "    <tr>\n",
       "      <th>2</th>\n",
       "      <td>Oz the Great and Powerful</td>\n",
       "      <td>2013</td>\n",
       "    </tr>\n",
       "    <tr>\n",
       "      <th>3</th>\n",
       "      <td>Gypsy 83</td>\n",
       "      <td>2004</td>\n",
       "    </tr>\n",
       "    <tr>\n",
       "      <th>4</th>\n",
       "      <td>Eyes Without a Face</td>\n",
       "      <td>2003</td>\n",
       "    </tr>\n",
       "  </tbody>\n",
       "</table>\n",
       "</div>"
      ],
      "text/plain": [
       "                       movie  year\n",
       "0                  Quiz Show  1994\n",
       "1               Juwanna Mann  2002\n",
       "2  Oz the Great and Powerful  2013\n",
       "3                   Gypsy 83  2004\n",
       "4       Eyes Without a Face   2003"
      ]
     },
     "execution_count": 23,
     "metadata": {},
     "output_type": "execute_result"
    }
   ],
   "source": [
    "df2.head()"
   ]
  },
  {
   "cell_type": "code",
   "execution_count": 68,
   "metadata": {
    "collapsed": false
   },
   "outputs": [
    {
     "name": "stdout",
     "output_type": "stream",
     "text": [
      "(5921, 3)\n"
     ]
    },
    {
     "data": {
      "text/html": [
       "<div>\n",
       "<table border=\"1\" class=\"dataframe\">\n",
       "  <thead>\n",
       "    <tr style=\"text-align: right;\">\n",
       "      <th></th>\n",
       "      <th>Movie</th>\n",
       "      <th>Year</th>\n",
       "      <th>Gross</th>\n",
       "    </tr>\n",
       "  </thead>\n",
       "  <tbody>\n",
       "    <tr>\n",
       "      <th>0</th>\n",
       "      <td>Quiz Show</td>\n",
       "      <td>1994</td>\n",
       "      <td>N/A</td>\n",
       "    </tr>\n",
       "    <tr>\n",
       "      <th>1</th>\n",
       "      <td>Juwanna Mann</td>\n",
       "      <td>2002</td>\n",
       "      <td>$13,434,906.00</td>\n",
       "    </tr>\n",
       "    <tr>\n",
       "      <th>2</th>\n",
       "      <td>Oz the Great and Powerful</td>\n",
       "      <td>2013</td>\n",
       "      <td>$234,903,076.00</td>\n",
       "    </tr>\n",
       "    <tr>\n",
       "      <th>3</th>\n",
       "      <td>Gypsy 83</td>\n",
       "      <td>2004</td>\n",
       "      <td>N/A</td>\n",
       "    </tr>\n",
       "    <tr>\n",
       "      <th>4</th>\n",
       "      <td>Eyes Without a Face</td>\n",
       "      <td>2003</td>\n",
       "      <td>N/A</td>\n",
       "    </tr>\n",
       "  </tbody>\n",
       "</table>\n",
       "</div>"
      ],
      "text/plain": [
       "                       Movie  Year            Gross\n",
       "0                  Quiz Show  1994              N/A\n",
       "1               Juwanna Mann  2002   $13,434,906.00\n",
       "2  Oz the Great and Powerful  2013  $234,903,076.00\n",
       "3                   Gypsy 83  2004              N/A\n",
       "4       Eyes Without a Face   2003              N/A"
      ]
     },
     "execution_count": 68,
     "metadata": {},
     "output_type": "execute_result"
    }
   ],
   "source": [
    "# \n",
    "test_movie_list = []\n",
    "\n",
    "for i, row in df2.iterrows():\n",
    "    movie = row[0]\n",
    "    year = row[1]\n",
    "    info = get_omdb_list(movie, year)\n",
    "    \n",
    "    test_movie_list.append(info)\n",
    "\n",
    "df3 = pd.DataFrame(test_movie_list, columns = ['Movie', 'Year', 'Gross'])\n",
    "print(df3.shape)\n"
   ]
  },
  {
   "cell_type": "code",
   "execution_count": 69,
   "metadata": {
    "collapsed": true
   },
   "outputs": [],
   "source": [
    "# Pickle results\n",
    "df3.to_pickle('data_omdb.pkl')"
   ]
  },
  {
   "cell_type": "code",
   "execution_count": 73,
   "metadata": {
    "collapsed": false
   },
   "outputs": [
    {
     "data": {
      "text/plain": [
       "(2691, 3)"
      ]
     },
     "execution_count": 73,
     "metadata": {},
     "output_type": "execute_result"
    }
   ],
   "source": [
    "df3.query('Gross != \"N/A\"').shape"
   ]
  },
  {
   "cell_type": "code",
   "execution_count": 72,
   "metadata": {
    "collapsed": false
   },
   "outputs": [
    {
     "data": {
      "text/html": [
       "<div>\n",
       "<table border=\"1\" class=\"dataframe\">\n",
       "  <thead>\n",
       "    <tr style=\"text-align: right;\">\n",
       "      <th></th>\n",
       "      <th>Movie</th>\n",
       "      <th>Year</th>\n",
       "      <th>Gross</th>\n",
       "    </tr>\n",
       "  </thead>\n",
       "  <tbody>\n",
       "    <tr>\n",
       "      <th>0</th>\n",
       "      <td>Quiz Show</td>\n",
       "      <td>1994</td>\n",
       "      <td>N/A</td>\n",
       "    </tr>\n",
       "    <tr>\n",
       "      <th>1</th>\n",
       "      <td>Juwanna Mann</td>\n",
       "      <td>2002</td>\n",
       "      <td>$13,434,906.00</td>\n",
       "    </tr>\n",
       "    <tr>\n",
       "      <th>2</th>\n",
       "      <td>Oz the Great and Powerful</td>\n",
       "      <td>2013</td>\n",
       "      <td>$234,903,076.00</td>\n",
       "    </tr>\n",
       "    <tr>\n",
       "      <th>3</th>\n",
       "      <td>Gypsy 83</td>\n",
       "      <td>2004</td>\n",
       "      <td>N/A</td>\n",
       "    </tr>\n",
       "    <tr>\n",
       "      <th>4</th>\n",
       "      <td>Eyes Without a Face</td>\n",
       "      <td>2003</td>\n",
       "      <td>N/A</td>\n",
       "    </tr>\n",
       "  </tbody>\n",
       "</table>\n",
       "</div>"
      ],
      "text/plain": [
       "                       Movie  Year            Gross\n",
       "0                  Quiz Show  1994              N/A\n",
       "1               Juwanna Mann  2002   $13,434,906.00\n",
       "2  Oz the Great and Powerful  2013  $234,903,076.00\n",
       "3                   Gypsy 83  2004              N/A\n",
       "4       Eyes Without a Face   2003              N/A"
      ]
     },
     "execution_count": 72,
     "metadata": {},
     "output_type": "execute_result"
    }
   ],
   "source": [
    "df3.head()"
   ]
  }
 ],
 "metadata": {
  "kernelspec": {
   "display_name": "Python 3",
   "language": "python",
   "name": "python3"
  },
  "language_info": {
   "codemirror_mode": {
    "name": "ipython",
    "version": 3
   },
   "file_extension": ".py",
   "mimetype": "text/x-python",
   "name": "python",
   "nbconvert_exporter": "python",
   "pygments_lexer": "ipython3",
   "version": "3.6.0"
  }
 },
 "nbformat": 4,
 "nbformat_minor": 2
}
